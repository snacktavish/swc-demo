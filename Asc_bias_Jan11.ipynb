{
 "metadata": {
  "name": ""
 },
 "nbformat": 3,
 "nbformat_minor": 0,
 "worksheets": [
  {
   "cells": [
    {
     "cell_type": "code",
     "collapsed": false,
     "input": [
      "#from matplotlib_venn import venn3\n",
      "import pickle\n",
      "import os\n",
      "import random\n",
      "import matplotlib.pyplot as plt\n",
      "import matplotlib.gridspec as gridspec"
     ],
     "language": "python",
     "metadata": {},
     "outputs": [],
     "prompt_number": 2
    },
    {
     "cell_type": "code",
     "collapsed": false,
     "input": [
      "#ms parameters as written:\n",
      "nsamp=150  #total number of samples\n",
      "reps=100000\n",
      "persamp=nsamp/3 #nchrms sampled per populataion\n",
      "no=15000.0 #number of inidvduals in each sub (E, A, I) population now\n",
      "miu=0.000003 #per site mutation rate\n",
      "nsites=1 #number of sites\n",
      "mig=0\n",
      "theta=4.0*no*miu\n",
      "fourno=4.0*no\n",
      "gen=5 #use 4years as generation time? \n",
      "ej1= (15000/gen)/fourno #timing of first split in 4no generations. (nyears/gen)/fourno soo if 5000 years == 1250generat\n",
      "ej2=(280000/gen)/fourno\n",
      "en1t= (36000/gen)/fourno #Domestication bottleneck begins (backwardsly)\n",
      "n1=0.3*no #bottleneck size?\n",
      "en2t= (40000/gen)/fourno #Domestication bottleneck ends (backwardsly)\n",
      "n2=no*2"
     ],
     "language": "python",
     "metadata": {},
     "outputs": [],
     "prompt_number": 4
    },
    {
     "cell_type": "code",
     "collapsed": false,
     "input": [
      "popsizes=\" -en 0 1 0.5 -en 0 2 0.5 -en 0 3 1\"#set subpop sizes at time 0\n",
      "ej1str = \" -ej %f 1 2 \" %ej1 #Merges pop 1 into pop 2 at time ej1 (1=Eur,2=Afr,3=Ind)\n",
      "ej2str = \" -ej %f 3 2 \" %ej2 #Merges pop 3 into pop 1+2 at time ej2\n",
      "en1astr = \" -en %f 2 %f \"%(en1t, 0.01)  #changes the taurine sub popuation to be x proportion of no at time en1t\n",
      "en1bstr = \" -en %f 2 %f \"%(en2t, 1)  #changes the taurine sub popuation size to be x proportion of no at time en2t\n",
      "migmatmurray=\" -em {0} 2 3 0.87 -em {0} 3 2 0.05 \".format(ej1)#(sets rates to those descibed by murray, starting at 15kya in time))\n",
      "#Therefore, m i->t = 0.435 = 2*Na*(the fraction of individuals each generation in pop t that are migrants from pop i).\"\n",
      "waymore=\"-em 0 2 3 8\"\n",
      " "
     ],
     "language": "python",
     "metadata": {},
     "outputs": [],
     "prompt_number": 5
    },
    {
     "cell_type": "code",
     "collapsed": false,
     "input": [
      "acallstr=\"./msdir/ms \" + \"150 100000\" +\" -t  %f\"%theta + \" -I 3 %f %f %f 0\" %(persamp,persamp,persamp) +popsizes+ej1str + ej2str + en1astr +en1bstr+ \" > nomig_15k.ms\"#simple model\n",
      "bcallstr=\"./msdir/ms \" + \"150 100000\" +\" -t  %f\"%theta + \" -I 3 %f %f %f 0\" %(persamp,persamp,persamp) +popsizes+ej1str + ej2str + en1astr +en1bstr+migmatmurray + \" > MURRmig_15k.ms\"#mig since domestication\n",
      "wcallstr=\"./msdir/ms \" + \"150 100000\" +\" -t  %f\"%theta + \" -I 3 %f %f %f 0\" %(persamp,persamp,persamp) +popsizes+ej1str + ej2str + en1astr +en1bstr+waymore+migmatmurray +\"> WAYmig_15k.ms\"#more I-AFR adm since 3k\n",
      "\n",
      "\n",
      "\n",
      "\n",
      "\n",
      "print(acallstr)\n",
      "print(bcallstr)\n",
      "print(wcallstr)\n",
      "#os.system(acallstr)\n",
      "#os.system(bcallstr)\n",
      "#os.system(wcallstr)\n"
     ],
     "language": "python",
     "metadata": {},
     "outputs": [
      {
       "output_type": "stream",
       "stream": "stdout",
       "text": [
        "./msdir/ms 150 100000 -t  0.180000 -I 3 50.000000 50.000000 50.000000 0 -en 0 1 0.5 -en 0 2 0.5 -en 0 3 1 -ej 0.050000 1 2  -ej 0.933333 3 2  -en 0.120000 2 0.010000  -en 0.133333 2 1.000000  > nomig_15k.ms\n",
        "./msdir/ms 150 100000 -t  0.180000 -I 3 50.000000 50.000000 50.000000 0 -en 0 1 0.5 -en 0 2 0.5 -en 0 3 1 -ej 0.050000 1 2  -ej 0.933333 3 2  -en 0.120000 2 0.010000  -en 0.133333 2 1.000000  -em 0.05 2 3 0.87 -em 0.05 3 2 0.05  > MURRmig_15k.ms\n",
        "./msdir/ms 150 100000 -t  0.180000 -I 3 50.000000 50.000000 50.000000 0 -en 0 1 0.5 -en 0 2 0.5 -en 0 3 1 -ej 0.050000 1 2  -ej 0.933333 3 2  -en 0.120000 2 0.010000  -en 0.133333 2 1.000000 -em 0 2 3 8 -em 0.05 2 3 0.87 -em 0.05 3 2 0.05 > WAYmig_15k.ms\n"
       ]
      },
      {
       "metadata": {},
       "output_type": "pyout",
       "prompt_number": 20,
       "text": [
        "0"
       ]
      }
     ],
     "prompt_number": 20
    },
    {
     "cell_type": "code",
     "collapsed": false,
     "input": [
      "import re\n",
      "def msout_to_array(infi,numsites=47507):\n",
      "    dat=open(infi)\n",
      "    datl=[]\n",
      "    arr=np.zeros((nsamp, 1))\n",
      "    y=0\n",
      "    liss=[]\n",
      "    for lin in dat:\n",
      "        if lin.startswith(\"segsites: 0\"):\n",
      "            pass\n",
      "        elif lin.startswith(\"segsites:\"):\n",
      "            ii=0\n",
      "        elif re.search(r\"^[0,1]+$\", lin):\n",
      "            if ii<nsamp:\n",
      "               liss.append(float(lin[0])) \n",
      "            ii+=1\n",
      "            if ii==nsamp:\n",
      "              arr = np.column_stack( [ arr , liss] )\n",
      "#              print(liss)\n",
      "              liss=[]\n",
      "        if arr.shape[1]==numsites:\n",
      "#        if arr.shape[1]==5000:\n",
      "            break\n",
      "    arr=arr[:,1:]\n",
      "    return(arr)"
     ],
     "language": "python",
     "metadata": {},
     "outputs": [],
     "prompt_number": 6
    },
    {
     "cell_type": "code",
     "collapsed": false,
     "input": [
      "def haplo_to_geno(arr):\n",
      "    genoarr=np.zeros((arr.shape[0]/2,arr.shape[1]))\n",
      "    for i in range(0,arr.shape[0],2):\n",
      "        genoarr[i/2,:]=arr[i,:]+arr[i+1,:]\n",
      "    return(genoarr)\n"
     ],
     "language": "python",
     "metadata": {},
     "outputs": [],
     "prompt_number": 7
    },
    {
     "cell_type": "code",
     "collapsed": false,
     "input": [
      "#create genepop format\n",
      "def geno_trans(val):\n",
      "    if val==0:\n",
      "        return('0101')\n",
      "    if val==1:\n",
      "        return('0102')\n",
      "    if val==2:\n",
      "        return('0202')\n",
      "    \n",
      "def genpopper(genoarr,oufi,nloci=1000):    \n",
      "    genfi=open(\"./Genepop/sources/%s.txt\"%oufi,'w')\n",
      "    genfi.write(\"some facts\\n\")\n",
      "    for item in range(nloci-1):\n",
      "       genfi.write(\"%i, \"%item)\n",
      "    genfi.write(str(nloci-1))\n",
      "    genfi.write(\"\\n\")\n",
      "    genfi.write(\"pop\\n\")\n",
      "    for i in range(persamp/2):\n",
      "        genfi.write(\"Europe%i ,\"%i)\n",
      "        for val in genoarr[i][:nloci]:\n",
      "            genfi.write(\" %s\"%geno_trans(val))\n",
      "        genfi.write(\"\\n\")    \n",
      "    genfi.write(\"pop\\n\")\n",
      "    for i in range(persamp/2,persamp):\n",
      "        genfi.write(\"Africa %i,\"%i)\n",
      "        for val in genoarr[i][:nloci]:\n",
      "            genfi.write(\" %s\"%geno_trans(val))\n",
      "        genfi.write(\"\\n\")  \n",
      "    genfi.write(\"pop\\n\")\n",
      "    for i in range(persamp,len(genoarr)):\n",
      "        genfi.write(\"India %i,\"%i)\n",
      "        for val in genoarr[i][:nloci]:\n",
      "            genfi.write(\" %s\"%geno_trans(val))\n",
      "        genfi.write(\"\\n\")  \n",
      "    genfi.close()\n",
      "    \n",
      "\n",
      "def run_genpop(infi):\n",
      "    callstr=\"./Genepop/sources/Genepop Dememorisation=1000 GenepopInputFile=Genepop/sources/%s.txt MenuOptions=6.2 Mode=batch\"%infi\n",
      "    print(callstr)\n",
      "    os.system(callstr)\n"
     ],
     "language": "python",
     "metadata": {},
     "outputs": [],
     "prompt_number": 8
    },
    {
     "cell_type": "code",
     "collapsed": false,
     "input": [
      "# READ IN DATA from real cattle and subset:\n",
      "# Use 25 Shorthorn, 25 Gir, 25 Ndama\n",
      "\n",
      "inddict={}\n",
      "inddict['eur']=[]\n",
      "inddict['afr']=[]\n",
      "inddict['indi']=[]\n",
      "inds=open(\"autos1.ind\")\n",
      "\n",
      "ind_deco={}\n",
      "for lin in inds:\n",
      "    if lin.startswith(\"124\"):\n",
      "        inddict['eur'].append(lin)  \n",
      "        ind_deco[lin.split()[0]]=\"Europe\"\n",
      "    if lin.startswith(\"500\"):\n",
      "        inddict['afr'].append(lin)    \n",
      "        ind_deco[lin.split()[0]]=\"Africa\"\n",
      "    if lin.startswith(\"507\"):\n",
      "        inddict['indi'].append(lin)\n",
      "        ind_deco[lin.split()[0]]=\"India\"\n",
      "\n",
      "\n",
      "#import random\n",
      "#for item in inddict:\n",
      "#    inddict[item]=random.sample(inddict[item],25)\n",
      "\n",
      "\n"
     ],
     "language": "python",
     "metadata": {},
     "outputs": [],
     "prompt_number": 26
    },
    {
     "cell_type": "code",
     "collapsed": false,
     "input": [
      "indsamp=[]\n",
      "for item in ['eur','afr','indi']:\n",
      "    for ind in inddict[item]:\n",
      "       indsamp.append(ind.split('\\t')[0])\n",
      "\n",
      "fi=open(\"insamp.p\",'wb')\n",
      "pickle.dump(indsamp,fi)"
     ],
     "language": "python",
     "metadata": {},
     "outputs": [],
     "prompt_number": 77
    },
    {
     "cell_type": "code",
     "collapsed": false,
     "input": [
      "genosdict={}\n",
      "for indiv in indsamp:\n",
      "    genosdict[indiv]={}\n",
      "\n",
      "loci=set()\n",
      "genos=open(\"autos.geno\")\n",
      "for lin in genos:\n",
      "    lii=lin.split()\n",
      "    if lii[1] in indsamp:\n",
      "        genosdict[lii[1]][lii[0]]=lii[2]\n",
      "        loci.add(lii[0])"
     ],
     "language": "python",
     "metadata": {},
     "outputs": [],
     "prompt_number": 78
    },
    {
     "cell_type": "code",
     "collapsed": false,
     "input": [
      "def real_to_genoarr(indsamp,nloci,nsamples=nsamp):\n",
      "    genoarr=np.zeros((nsamples/2,nloci))\n",
      "#    loci_samp=random.sample(loci,nloci)\n",
      "    loci_samp=loci\n",
      "    for x,indiv in enumerate(indsamp):\n",
      "        for y,loc in enumerate(loci_samp): \n",
      "            genoarr[x,y]=genosdict[indiv][loc]\n",
      "    return(genoarr)\n"
     ],
     "language": "python",
     "metadata": {},
     "outputs": [],
     "prompt_number": 9
    },
    {
     "cell_type": "code",
     "collapsed": false,
     "input": [
      "rgenoarr=real_to_genoarr(indsamp,len(loci))"
     ],
     "language": "python",
     "metadata": {},
     "outputs": [],
     "prompt_number": 159
    },
    {
     "cell_type": "code",
     "collapsed": false,
     "input": [
      "rgenoarr[25]"
     ],
     "language": "python",
     "metadata": {},
     "outputs": [
      {
       "metadata": {},
       "output_type": "pyout",
       "prompt_number": 163,
       "text": [
        "array([ 1.,  0.,  0., ...,  0.,  0.,  2.])"
       ]
      }
     ],
     "prompt_number": 163
    },
    {
     "cell_type": "code",
     "collapsed": false,
     "input": [
      "def popdiv_geno(garr,persamp=25):\n",
      "    assert(garr.shape[0]==75)\n",
      "    pop_split={}\n",
      "    poly_dict={}\n",
      "    maf_dict={}\n",
      "    pop_split['eur']=garr[:persamp,:]\n",
      "    pop_split['afr']=garr[persamp:2*persamp,:]\n",
      "    pop_split['indi']=garr[2*persamp:,:]\n",
      "    maf_dict['all']=(garr.sum(axis=0))/len(garr[:,1])\n",
      "    for item in pop_split:\n",
      "        sumz=pop_split[item].sum(axis=0)\n",
      "        perc=sumz/float(len(pop_split[item]))\n",
      "        maf_dict[item]=perc\n",
      "        poly_dict[item]=[]\n",
      "        for i,val in enumerate(perc):\n",
      "            if 0.05 < val < 1.95:\n",
      "                poly_dict[item].append(i)\n",
      "    return(maf_dict,poly_dict)"
     ],
     "language": "python",
     "metadata": {},
     "outputs": [],
     "prompt_number": 10
    },
    {
     "cell_type": "code",
     "collapsed": false,
     "input": [
      "def popdiv(arr,persamp=50):\n",
      "    assert(aarr.shape[0]==75)\n",
      "    pop_split=150\n",
      "    poly_dict={}\n",
      "    maf_dict={}\n",
      "    pop_split['eur']=arr[:persamp,:]\n",
      "    pop_split['afr']=arr[persamp:2*persamp,:]\n",
      "    pop_split['indi']=arr[2*persamp:,:]\n",
      "    maf_dict['all']=(arr.sum(axis=0))/len(arr[:,1])\n",
      "    for item in pop_split:\n",
      "        sumz=pop_split[item].sum(axis=0)\n",
      "        perc=sumz/float(len(pop_split[item]))\n",
      "        maf_dict[item]=perc\n",
      "        poly_dict[item]=[]\n",
      "        for i,val in enumerate(perc):\n",
      "            if 0.05 < val < 0.95:\n",
      "                poly_dict[item].append(i)\n",
      "    return(maf_dict,poly_dict)"
     ],
     "language": "python",
     "metadata": {},
     "outputs": [],
     "prompt_number": 11
    },
    {
     "cell_type": "code",
     "collapsed": false,
     "input": [
      "names_dict={}\n",
      "for i in range(nsamp):\n",
      "    if i <25:\n",
      "        names_dict[i]=\"Europe\"\n",
      "    elif i <50:\n",
      "        names_dict[i]=\"Africa\"\n",
      "    else:\n",
      "        names_dict[i]=\"India\"\n",
      "\n",
      "\n",
      "def genoarr_to_eig(genoarr,outname):\n",
      "    gfi=open(\"%s.geno\" %outname,'w')\n",
      "    ifi=open(\"%s.ind\" %outname,'w')\n",
      "    sfi=open(\"%s.snp\" %outname,'w')\n",
      "    for ind in range(genoarr.shape[0]):\n",
      "        ifi.write(\"%iind \\tF\\t %s\\n\" %(ind, names_dict[ind]))\n",
      "        for loc in range(genoarr.shape[1]):\n",
      "            gfi.write(\"%i %iind %i \\n\"%(loc,ind,genoarr[ind,loc]))\n",
      "    for loc in range(genoarr.shape[1]):\n",
      "        sfi.write(\"%i 1 0.0  %i \\n\"%(loc,loc*100))\n",
      "    ifi.close()\n",
      "    gfi.close()\n",
      "    sfi.close()\n",
      "    par=open(\"par.example\",'r')\n",
      "    opar=open('par.'+outname,'w')\n",
      "    for lin in par.readlines():\n",
      "           opar.write(lin.replace('example',outname))\n",
      "    opar.close()\n",
      "    os.system(\"../EIG5.0.1/bin/smartpca -p par.%s\"%outname)\n",
      "    os.system(\"pause\")\n",
      "    os.system(\"perl ../EIG5.0.1/bin/ploteig -i %s.evec -p simgroups.txt  -x -o %s.xtxt\"%(outname,outname))\n",
      "\n"
     ],
     "language": "python",
     "metadata": {},
     "outputs": [],
     "prompt_number": 12
    },
    {
     "cell_type": "code",
     "collapsed": false,
     "input": [
      "n=47500\n",
      "for i in range(0,5):\n",
      "    ii=str(i)\n",
      "    print(acallstr+ii)\n",
      "    print(bcallstr+ii)\n",
      "    print(wcallstr+ii)\n",
      "    os.system(acallstr+ii)\n",
      "    os.system(bcallstr+ii)\n",
      "    os.system(wcallstr+ii)\n",
      "    aarr=msout_to_array(\"nomig_15k.ms%s\"%ii,numsites=n)#47500\n",
      "    pickle.dump(aarr,open(\"a%s.p\"%ii,'wb'))\n",
      "    print(\"a done\")\n",
      "    barr=msout_to_array(\"MURRmig_15k.ms%s\"%ii,numsites=n)\n",
      "    pickle.dump(barr,open(\"b%s.p\"%ii,'wb'))\n",
      "    print(\"b done\")\n",
      "    warr=msout_to_array(\"WAYmig_15k.ms%s\"%ii,numsites=n)\n",
      "    pickle.dump(warr,open(\"c%s.p\"%ii,'wb'))\n",
      "    print(\"w done\")\n",
      "    geno_arrays={}\n",
      "    geno_arrays['a']=haplo_to_geno(aarr)\n",
      "    geno_arrays['b']=haplo_to_geno(barr)\n",
      "    geno_arrays['w']=haplo_to_geno(warr)\n",
      "    subsamp_dict={}\n",
      "    subsamp_dict['rand']={}\n",
      "    for item in geno_arrays:\n",
      "        sample_locs=random.sample(range(n-1),1000)\n",
      "        subsamp_dict['rand'][item]=geno_arrays[item][:,sample_locs]\n",
      "    subsamp_dict['Eur']={}\n",
      "    subsamp_dict['Poly']={}\n",
      "    for item in geno_arrays:\n",
      "        poly_dict=popdiv_geno(geno_arrays[item])[1]\n",
      "        eur_locs=random.sample(set(poly_dict['eur']),800)+random.sample(range(n-1),200)\n",
      "        subsamp_dict['Eur'][item]=geno_arrays[item][:,eur_locs]\n",
      "        AB=list(set(poly_dict['eur']) & set(poly_dict['afr']))\n",
      "        AC=list(set(poly_dict['eur'])&set(poly_dict['indi']))\n",
      "        BC=list(set(poly_dict['afr'])&set(poly_dict['indi']))\n",
      "        ABC=list(set(poly_dict['eur'])&set(poly_dict['afr'])&set(poly_dict['indi']))\n",
      "        multi_poly=AB+BC+AC+ABC\n",
      "        poly_locs=random.sample(multi_poly,800)+random.sample(range(n-1),200)\n",
      "        subsamp_dict['Poly'][item]=geno_arrays[item][:,poly_locs]\n",
      "    pickle.dump(subsamp_dict,open(\"subsamp%s.p\"%ii,'wb'))"
     ],
     "language": "python",
     "metadata": {},
     "outputs": [
      {
       "output_type": "stream",
       "stream": "stdout",
       "text": [
        "./msdir/ms 150 100000 -t  0.180000 -I 3 50.000000 50.000000 50.000000 0 -en 0 1 0.5 -en 0 2 0.5 -en 0 3 1 -ej 0.050000 1 2  -ej 0.933333 3 2  -en 0.120000 2 0.010000  -en 0.133333 2 1.000000  > nomig_15k.ms0\n",
        "./msdir/ms 150 100000 -t  0.180000 -I 3 50.000000 50.000000 50.000000 0 -en 0 1 0.5 -en 0 2 0.5 -en 0 3 1 -ej 0.050000 1 2  -ej 0.933333 3 2  -en 0.120000 2 0.010000  -en 0.133333 2 1.000000  -em 0.05 2 3 0.87 -em 0.05 3 2 0.05  > MURRmig_15k.ms0\n",
        "./msdir/ms 150 100000 -t  0.180000 -I 3 50.000000 50.000000 50.000000 0 -en 0 1 0.5 -en 0 2 0.5 -en 0 3 1 -ej 0.050000 1 2  -ej 0.933333 3 2  -en 0.120000 2 0.010000  -en 0.133333 2 1.000000 -em 0 2 3 8 -em 0.05 2 3 0.87 -em 0.05 3 2 0.05 > WAYmig_15k.ms0\n",
        "a done"
       ]
      },
      {
       "output_type": "stream",
       "stream": "stdout",
       "text": [
        "\n",
        "b done"
       ]
      },
      {
       "output_type": "stream",
       "stream": "stdout",
       "text": [
        "\n",
        "w done"
       ]
      },
      {
       "output_type": "stream",
       "stream": "stdout",
       "text": [
        "\n",
        "./msdir/ms 150 100000 -t  0.180000 -I 3 50.000000 50.000000 50.000000 0 -en 0 1 0.5 -en 0 2 0.5 -en 0 3 1 -ej 0.050000 1 2  -ej 0.933333 3 2  -en 0.120000 2 0.010000  -en 0.133333 2 1.000000  > nomig_15k.ms1"
       ]
      },
      {
       "output_type": "stream",
       "stream": "stdout",
       "text": [
        "\n",
        "./msdir/ms 150 100000 -t  0.180000 -I 3 50.000000 50.000000 50.000000 0 -en 0 1 0.5 -en 0 2 0.5 -en 0 3 1 -ej 0.050000 1 2  -ej 0.933333 3 2  -en 0.120000 2 0.010000  -en 0.133333 2 1.000000  -em 0.05 2 3 0.87 -em 0.05 3 2 0.05  > MURRmig_15k.ms1\n",
        "./msdir/ms 150 100000 -t  0.180000 -I 3 50.000000 50.000000 50.000000 0 -en 0 1 0.5 -en 0 2 0.5 -en 0 3 1 -ej 0.050000 1 2  -ej 0.933333 3 2  -en 0.120000 2 0.010000  -en 0.133333 2 1.000000 -em 0 2 3 8 -em 0.05 2 3 0.87 -em 0.05 3 2 0.05 > WAYmig_15k.ms1\n",
        "a done"
       ]
      },
      {
       "output_type": "stream",
       "stream": "stdout",
       "text": [
        "\n",
        "b done"
       ]
      },
      {
       "output_type": "stream",
       "stream": "stdout",
       "text": [
        "\n",
        "w done"
       ]
      },
      {
       "output_type": "stream",
       "stream": "stdout",
       "text": [
        "\n",
        "./msdir/ms 150 100000 -t  0.180000 -I 3 50.000000 50.000000 50.000000 0 -en 0 1 0.5 -en 0 2 0.5 -en 0 3 1 -ej 0.050000 1 2  -ej 0.933333 3 2  -en 0.120000 2 0.010000  -en 0.133333 2 1.000000  > nomig_15k.ms2"
       ]
      },
      {
       "output_type": "stream",
       "stream": "stdout",
       "text": [
        "\n",
        "./msdir/ms 150 100000 -t  0.180000 -I 3 50.000000 50.000000 50.000000 0 -en 0 1 0.5 -en 0 2 0.5 -en 0 3 1 -ej 0.050000 1 2  -ej 0.933333 3 2  -en 0.120000 2 0.010000  -en 0.133333 2 1.000000  -em 0.05 2 3 0.87 -em 0.05 3 2 0.05  > MURRmig_15k.ms2\n",
        "./msdir/ms 150 100000 -t  0.180000 -I 3 50.000000 50.000000 50.000000 0 -en 0 1 0.5 -en 0 2 0.5 -en 0 3 1 -ej 0.050000 1 2  -ej 0.933333 3 2  -en 0.120000 2 0.010000  -en 0.133333 2 1.000000 -em 0 2 3 8 -em 0.05 2 3 0.87 -em 0.05 3 2 0.05 > WAYmig_15k.ms2\n",
        "a done"
       ]
      },
      {
       "output_type": "stream",
       "stream": "stdout",
       "text": [
        "\n",
        "b done"
       ]
      },
      {
       "output_type": "stream",
       "stream": "stdout",
       "text": [
        "\n",
        "w done"
       ]
      },
      {
       "output_type": "stream",
       "stream": "stdout",
       "text": [
        "\n",
        "./msdir/ms 150 100000 -t  0.180000 -I 3 50.000000 50.000000 50.000000 0 -en 0 1 0.5 -en 0 2 0.5 -en 0 3 1 -ej 0.050000 1 2  -ej 0.933333 3 2  -en 0.120000 2 0.010000  -en 0.133333 2 1.000000  > nomig_15k.ms3"
       ]
      },
      {
       "output_type": "stream",
       "stream": "stdout",
       "text": [
        "\n",
        "./msdir/ms 150 100000 -t  0.180000 -I 3 50.000000 50.000000 50.000000 0 -en 0 1 0.5 -en 0 2 0.5 -en 0 3 1 -ej 0.050000 1 2  -ej 0.933333 3 2  -en 0.120000 2 0.010000  -en 0.133333 2 1.000000  -em 0.05 2 3 0.87 -em 0.05 3 2 0.05  > MURRmig_15k.ms3\n",
        "./msdir/ms 150 100000 -t  0.180000 -I 3 50.000000 50.000000 50.000000 0 -en 0 1 0.5 -en 0 2 0.5 -en 0 3 1 -ej 0.050000 1 2  -ej 0.933333 3 2  -en 0.120000 2 0.010000  -en 0.133333 2 1.000000 -em 0 2 3 8 -em 0.05 2 3 0.87 -em 0.05 3 2 0.05 > WAYmig_15k.ms3\n",
        "a done"
       ]
      },
      {
       "output_type": "stream",
       "stream": "stdout",
       "text": [
        "\n",
        "b done"
       ]
      },
      {
       "output_type": "stream",
       "stream": "stdout",
       "text": [
        "\n",
        "w done"
       ]
      },
      {
       "output_type": "stream",
       "stream": "stdout",
       "text": [
        "\n",
        "./msdir/ms 150 100000 -t  0.180000 -I 3 50.000000 50.000000 50.000000 0 -en 0 1 0.5 -en 0 2 0.5 -en 0 3 1 -ej 0.050000 1 2  -ej 0.933333 3 2  -en 0.120000 2 0.010000  -en 0.133333 2 1.000000  > nomig_15k.ms4"
       ]
      },
      {
       "output_type": "stream",
       "stream": "stdout",
       "text": [
        "\n",
        "./msdir/ms 150 100000 -t  0.180000 -I 3 50.000000 50.000000 50.000000 0 -en 0 1 0.5 -en 0 2 0.5 -en 0 3 1 -ej 0.050000 1 2  -ej 0.933333 3 2  -en 0.120000 2 0.010000  -en 0.133333 2 1.000000  -em 0.05 2 3 0.87 -em 0.05 3 2 0.05  > MURRmig_15k.ms4\n",
        "./msdir/ms 150 100000 -t  0.180000 -I 3 50.000000 50.000000 50.000000 0 -en 0 1 0.5 -en 0 2 0.5 -en 0 3 1 -ej 0.050000 1 2  -ej 0.933333 3 2  -en 0.120000 2 0.010000  -en 0.133333 2 1.000000 -em 0 2 3 8 -em 0.05 2 3 0.87 -em 0.05 3 2 0.05 > WAYmig_15k.ms4\n",
        "a done"
       ]
      },
      {
       "output_type": "stream",
       "stream": "stdout",
       "text": [
        "\n",
        "b done"
       ]
      },
      {
       "output_type": "stream",
       "stream": "stdout",
       "text": [
        "\n",
        "w done"
       ]
      },
      {
       "output_type": "stream",
       "stream": "stdout",
       "text": [
        "\n"
       ]
      }
     ],
     "prompt_number": 39
    },
    {
     "cell_type": "code",
     "collapsed": false,
     "input": [
      "#for i in range(0,5):\n",
      "    ii=str(i)\n",
      "    subsamp=pickle.load(open(\"subsamp%i.p\"%i,'rb'))\n",
      "    sample_locs=random.sample(range(47506),1000)\n",
      "    subsamp['rand']['r']=rgenoarr[:,sample_locs]\n",
      "    pickle.dump(subsamp,open(\"FinalSub%s.p\"%ii,'wb'))\n",
      "    "
     ],
     "language": "python",
     "metadata": {},
     "outputs": [],
     "prompt_number": 85
    },
    {
     "cell_type": "code",
     "collapsed": false,
     "input": [
      "subsamp['Poly'].keys()"
     ],
     "language": "python",
     "metadata": {},
     "outputs": [
      {
       "metadata": {},
       "output_type": "pyout",
       "prompt_number": 86,
       "text": [
        "['a', 'b', 'w']"
       ]
      }
     ],
     "prompt_number": 86
    },
    {
     "cell_type": "code",
     "collapsed": false,
     "input": [
      "vals_dict={}\n",
      "vals_dict['PC1']={}\n",
      "vals_dict['PC2']={}\n",
      "vals_dict['fst1-2']={}\n",
      "vals_dict['fst1-3']={}\n",
      "vals_dict['fst2-3']={}\n",
      "subsamp=pickle.load(open(\"FinalSub0.p\",'rb'))\n",
      "for groups in subsamp:\n",
      "    for types in subsamp[groups]:\n",
      "            genoarr_to_eig(subsamp[groups][types],groups+types+'0')\n",
      "\n",
      "for item in vals_dict:\n",
      "   for group in subsamp:\n",
      "        for types in subsamp[group]:\n",
      "            vals_dict[item][(group+types)]=[]\n",
      "\n"
     ],
     "language": "python",
     "metadata": {},
     "outputs": [],
     "prompt_number": 13
    },
    {
     "cell_type": "code",
     "collapsed": false,
     "input": [
      "#Similarly, the functions venn3 and venn3_circles take a 7-element list of subset sizes (Abc, aBc, ABc, abC, AbC, aBC, ABC), and draw a three-circle area-weighted venn diagram.\n",
      "def venn_poly(poly_dict,output):\n",
      "    A=len(set(poly_dict['eur'])- (set(poly_dict['indi'])|set(poly_dict['afr']) ))\n",
      "    B=len(set(poly_dict['afr'])- (set(poly_dict['indi'])|set(poly_dict['eur']) ))\n",
      "    C=len(set(poly_dict['indi'])- (set(poly_dict['eur'])|set(poly_dict['afr']) ))\n",
      "    AB=len((set(poly_dict['eur']) & set(poly_dict['afr']))-(set(poly_dict['eur'])&(set(poly_dict['afr'])&set(poly_dict['indi']))))\n",
      "    AC=len((set(poly_dict['eur'])&set(poly_dict['indi']))-(set(poly_dict['eur'])&(set(poly_dict['afr'])&set(poly_dict['indi']))))\n",
      "    BC=len((set(poly_dict['afr'])&set(poly_dict['indi']))-(set(poly_dict['eur'])&(set(poly_dict['afr'])&set(poly_dict['indi']))))\n",
      "    ABC=len(set(poly_dict['eur'])&(set(poly_dict['afr'])&set(poly_dict['indi'])))\n",
      "    print(A,B,C,AB,AC,BC,ABC)\n",
      "#    for item in [A,B,C,AB,AC,BC,ABC]\n",
      "    #fig=plt.figure(figsize=(4,4))\n",
      "#    venn3(subsets=(A,B,AB,C,AC,BC,ABC),set_labels=(\"Europe\",'Africa','India'))\n",
      "    print(len(set(poly_dict['eur'])|(set(poly_dict['afr'])|set(poly_dict['indi']))))\n",
      "    fi=open(output+\".els\",'w')\n",
      "    fi.write(\"//a | b | c | ab | ac | bc | abc\\n\")\n",
      "    fi.write(\"{} | {} | {} | {} | {} | {} | {}\".format(A,B,C,AB,AC,BC,ABC))\n",
      "    fi.close()\n",
      "    os.system(\"java -jar  eulerAPE_3.0.0.jar -i {0}.els\".format(output))"
     ],
     "language": "python",
     "metadata": {},
     "outputs": [],
     "prompt_number": 153
    },
    {
     "cell_type": "code",
     "collapsed": false,
     "input": [
      "def venn_poly_print(poly_dict):\n",
      "    A=len(set(poly_dict['eur'])- (set(poly_dict['indi'])|set(poly_dict['afr']) ))\n",
      "    B=len(set(poly_dict['afr'])- (set(poly_dict['indi'])|set(poly_dict['eur']) ))\n",
      "    C=len(set(poly_dict['indi'])- (set(poly_dict['eur'])|set(poly_dict['afr']) ))\n",
      "    AB=len((set(poly_dict['eur']) & set(poly_dict['afr']))-(set(poly_dict['eur'])&(set(poly_dict['afr'])&set(poly_dict['indi']))))\n",
      "    AC=len((set(poly_dict['eur'])&set(poly_dict['indi']))-(set(poly_dict['eur'])&(set(poly_dict['afr'])&set(poly_dict['indi']))))\n",
      "    BC=len((set(poly_dict['afr'])&set(poly_dict['indi']))-(set(poly_dict['eur'])&(set(poly_dict['afr'])&set(poly_dict['indi']))))\n",
      "    ABC=len(set(poly_dict['eur'])&(set(poly_dict['afr'])&set(poly_dict['indi'])))\n",
      "    return([str(A),str(B),str(C),str(AB),str(AC),str(BC),str(ABC)])\n",
      "\n",
      "fi=open(\"poly_table.csv\",'w')\n",
      "fi.write(\",,Europe,Africa,India,Eur-Afr,Eur-Ind,Afr-Ind,Eur-Afr-Ind,\\n\")\n",
      "fi.write(\"Empirical data,Full,\"+\",\".join(venn_poly_print(popdiv_geno(rgenoarr)[1]))+'\\n')\n",
      "fi.write(\"Empirical data,random,\"+\",\".join(venn_poly_print(popdiv_geno(subsamp['rand']['r'])[1]))+'\\n')\n",
      "fi.write(\"a,Full,\"+\",\".join(venn_poly_print(popdiv_geno(haplo_to_geno(aarr))[1]))+'\\n')\n",
      "fi.write(\"a,I,\"+\",\".join(venn_poly_print(popdiv_geno(subsamp['rand']['a'])[1]))+'\\n')\n",
      "fi.write(\"a,II,\"+\",\".join(venn_poly_print(popdiv_geno(subsamp['Eur']['a'])[1]))+'\\n')\n",
      "fi.write(\"a,III,\"+\",\".join(venn_poly_print(popdiv_geno(subsamp['Poly']['a'])[1]))+'\\n')\n",
      "fi.write(\"b,Full,\"+\",\".join(venn_poly_print(popdiv_geno(haplo_to_geno(barr))[1]))+'\\n')\n",
      "fi.write(\"b,I,\"+\",\".join(venn_poly_print(popdiv_geno(subsamp['rand']['b'])[1]))+'\\n')\n",
      "fi.write(\"b,II,\"+\",\".join(venn_poly_print(popdiv_geno(subsamp['Eur']['b'])[1]))+'\\n')\n",
      "fi.write(\"b,III,\"+\",\".join(venn_poly_print(popdiv_geno(subsamp['Poly']['b'])[1]))+'\\n')\n",
      "fi.write(\"c,Full,\"+\",\".join(venn_poly_print(popdiv_geno(haplo_to_geno(warr))[1]))+'\\n')\n",
      "fi.write(\"c,I,\"+\",\".join(venn_poly_print(popdiv_geno(subsamp['rand']['w'])[1]))+'\\n')\n",
      "fi.write(\"c,II,\"+\",\".join(venn_poly_print(popdiv_geno(subsamp['Eur']['w'])[1]))+'\\n')\n",
      "fi.write(\"c,III,\"+\",\".join(venn_poly_print(popdiv_geno(subsamp['Poly']['w'])[1]))+'\\n')\n",
      "    \n",
      "fi.close()\n",
      "\n"
     ],
     "language": "python",
     "metadata": {},
     "outputs": [],
     "prompt_number": 195
    },
    {
     "cell_type": "code",
     "collapsed": false,
     "input": [
      "print('A','B','C','AB','AC','BC','ABC')\n",
      "for groups in subsamp:\n",
      "    print(groups)\n",
      "    for types in subsamp[groups]:\n",
      "            print(types)\n",
      "            venn_poly(popdiv_geno(subsamp[groups][types])[1],groups+types)\n",
      "\n",
      "            \n",
      "aarr=pickle.load(open(\"a0.p\",'rb'))\n",
      "barr=pickle.load(open(\"b0.p\",'rb'))\n",
      "warr=pickle.load(open(\"c0.p\",'rb'))\n",
      "print('aFULL')\n",
      "venn_poly(popdiv_geno(haplo_to_geno(aarr))[1],'aFULL')\n",
      "print('bFULL')\n",
      "venn_poly(popdiv_geno(haplo_to_geno(barr))[1],'bFULL')\n",
      "print('wFULL')\n",
      "venn_poly(popdiv_geno(haplo_to_geno(warr))[1],'cFULL')\n"
     ],
     "language": "python",
     "metadata": {},
     "outputs": [
      {
       "output_type": "stream",
       "stream": "stdout",
       "text": [
        "('A', 'B', 'C', 'AB', 'AC', 'BC', 'ABC')\n",
        "rand\n",
        "a\n",
        "(84, 90, 364, 26, 0, 0, 0)\n",
        "564\n",
        "r"
       ]
      },
      {
       "output_type": "stream",
       "stream": "stdout",
       "text": [
        "\n",
        "(139, 25, 27, 203, 56, 42, 377)\n",
        "869\n",
        "b"
       ]
      },
      {
       "output_type": "stream",
       "stream": "stdout",
       "text": [
        "\n",
        "(102, 96, 394, 61, 21, 20, 23)\n",
        "717\n",
        "w"
       ]
      },
      {
       "output_type": "stream",
       "stream": "stdout",
       "text": [
        "\n",
        "(98, 200, 193, 62, 4, 185, 38)\n",
        "780\n",
        "Poly"
       ]
      },
      {
       "output_type": "stream",
       "stream": "stdout",
       "text": [
        "\n",
        "a\n",
        "(16, 15, 83, 775, 0, 1, 28)\n",
        "918\n",
        "b"
       ]
      },
      {
       "output_type": "stream",
       "stream": "stdout",
       "text": [
        "\n",
        "(18, 23, 77, 272, 81, 77, 391)\n",
        "939\n",
        "w"
       ]
      },
      {
       "output_type": "stream",
       "stream": "stdout",
       "text": [
        "\n",
        "(17, 39, 34, 152, 10, 439, 257)\n",
        "948\n",
        "Eur"
       ]
      },
      {
       "output_type": "stream",
       "stream": "stdout",
       "text": [
        "\n",
        "a\n",
        "(585, 13, 77, 236, 0, 0, 2)\n",
        "913\n",
        "b"
       ]
      },
      {
       "output_type": "stream",
       "stream": "stdout",
       "text": [
        "\n",
        "(449, 26, 83, 244, 60, 2, 84)\n",
        "948\n",
        "w"
       ]
      },
      {
       "output_type": "stream",
       "stream": "stdout",
       "text": [
        "\n",
        "(395, 46, 42, 307, 10, 28, 130)\n",
        "958\n",
        "aFULL"
       ]
      },
      {
       "output_type": "stream",
       "stream": "stdout",
       "text": [
        "\n",
        "(3848, 3991, 18573, 1394, 1, 3, 12)"
       ]
      },
      {
       "output_type": "stream",
       "stream": "stdout",
       "text": [
        "\n",
        "27822\n",
        "bFULL"
       ]
      },
      {
       "output_type": "stream",
       "stream": "stdout",
       "text": [
        "\n",
        "(4958, 4964, 17840, 2592, 691, 695, 871)"
       ]
      },
      {
       "output_type": "stream",
       "stream": "stdout",
       "text": [
        "\n",
        "32611\n",
        "wFULL"
       ]
      },
      {
       "output_type": "stream",
       "stream": "stdout",
       "text": [
        "\n",
        "(4272, 9294, 9278, 3240, 142, 9070, 1339)"
       ]
      },
      {
       "output_type": "stream",
       "stream": "stdout",
       "text": [
        "\n",
        "36635\n"
       ]
      }
     ],
     "prompt_number": 154
    },
    {
     "cell_type": "code",
     "collapsed": false,
     "input": [
      "print('wFULL')\n",
      "venn_poly(popdiv_geno(rgenoarr)[1],'rFULL')\n"
     ],
     "language": "python",
     "metadata": {},
     "outputs": [
      {
       "output_type": "stream",
       "stream": "stdout",
       "text": [
        "wFULL\n",
        "(6325, 1452, 1373, 9540, 2873, 2463, 17046)"
       ]
      },
      {
       "output_type": "stream",
       "stream": "stdout",
       "text": [
        "\n",
        "41072\n"
       ]
      }
     ],
     "prompt_number": 187
    },
    {
     "cell_type": "code",
     "collapsed": false,
     "input": [
      "import matplotlib.pyplot as plt\n",
      "import matplotlib.patches as patches\n",
      "fig=plt.figure(figsize=(8, 6))\n",
      "\n",
      "i=0\n",
      "ii=0\n",
      "\n",
      "\n",
      "for groups in ['a','b','w']:\n",
      "      for types in [\"rand\",\"Eur\",\"Poly\"]:\n",
      "            ii+=1\n",
      "            print(types,groups)\n",
      "            fi=open(\"{:s}{:s}0.evec\".format(types,groups)).readlines()\n",
      "            \n",
      "            evec_dict={}\n",
      "            loc_dict={}\n",
      "            locset=set()\n",
      "            for lin in fi[1:]:\n",
      "                lii=lin.split()\n",
      "                evec_dict[lii[0]]=lii[1:-1]\n",
      "                loc_dict[lii[0]]=lii[-1]\n",
      "                locset.add(lii[-1])\n",
      "            d = {key: value for (key, value) in zip(locset,['^','o','x'])}\n",
      "            c = {key: value for (key, value) in zip(locset,['blue','red','green'])}\n",
      "            ax=fig.add_subplot(4,3,ii+3)            \n",
      "            if float(evec_dict['1ind'][0])<float(evec_dict['51ind'][0]):\n",
      "                ax.set_xlim(min([float(evec_dict[item][0]) for item in evec_dict])-0.015,max([float(evec_dict[item][0]) for item in evec_dict])+0.015)\n",
      "            else:\n",
      "                ax.set_xlim(max([float(evec_dict[item][0]) for item in evec_dict])+0.015,min([float(evec_dict[item][0]) for item in evec_dict])-0.015)\n",
      "            if evec_dict['1ind'][1]>evec_dict['26ind'][1]:\n",
      "                ax.set_ylim(min([float(evec_dict[item][1]) for item in evec_dict])-0.02,max([float(evec_dict[item][1]) for item in evec_dict])+0.02)\n",
      "            else:\n",
      "                ax.set_ylim(max([float(evec_dict[item][1]) for item in evec_dict])+0.02,min([float(evec_dict[item][1]) for item in evec_dict])-0.02)\n",
      "            max_xticks = 5\n",
      "            xloc = plt.MaxNLocator(max_xticks)\n",
      "            ax.xaxis.set_major_locator(xloc)\n",
      "            max_yticks = 6\n",
      "            yloc = plt.MaxNLocator(max_yticks)\n",
      "            ax.yaxis.set_major_locator(yloc)\n",
      "            for ind in evec_dict:\n",
      "                ax.plot(float(evec_dict[ind][0]), float(evec_dict[ind][1]),d[loc_dict[ind]],color=c[loc_dict[ind]])\n",
      "                fi=open(\"%s0.eval\"%(types+groups))\n",
      "                evalfi=[]\n",
      "                for item in fi:\n",
      "                    evalfi.append(float(item))\n",
      "            PC1=evalfi[0]/sum(evalfi)\n",
      "            PC2=evalfi[1]/sum(evalfi)\n",
      "            ax.text(0.3,0.575,\"PC1 {:.2f}\".format(PC1),transform = ax.transAxes)\n",
      "            ax.text(0.3,0.425,\"PC2 {:.2f}\".format(PC2),transform = ax.transAxes)\n",
      "            if ii==1:\n",
      "                ax.set_title(\"I\")\n",
      "                ax.set_ylabel(\"a\",rotation='0')\n",
      "            if ii==2:\n",
      "                ax.set_title(\"II\")\n",
      "            if ii==3:\n",
      "                ax.set_title(\"III\")\n",
      "            if ii==4:\n",
      "                ax.set_ylabel(\"b\",rotation='0')   \n",
      "            if ii==7:\n",
      "                ax.set_ylabel(\"c\",rotation='0')   \n",
      "\n",
      "        \n",
      "for groups in ['r']:\n",
      "      for types in [\"rand\"]:\n",
      "            ii+=1\n",
      "            print(types,groups)\n",
      "            fi=open(\"{:s}{:s}0.evec\".format(types,groups)).readlines()\n",
      "            evec_dict={}\n",
      "            loc_dict={}\n",
      "            locset=set()\n",
      "            for lin in fi[1:]:\n",
      "                lii=lin.split()\n",
      "                evec_dict[lii[0]]=lii[1:-1]\n",
      "                loc_dict[lii[0]]=lii[-1]\n",
      "                locset.add(lii[-1])\n",
      "            d = {key: value for (key, value) in zip(locset,['^','o','x'])}\n",
      "            c = {key: value for (key, value) in zip(locset,['blue','red','green'])}\n",
      "            ax=fig.add_subplot(4,3,2)            \n",
      "            if float(evec_dict['1ind'][0])<float(evec_dict['51ind'][0]):\n",
      "                ax.set_xlim(min([float(evec_dict[item][0]) for item in evec_dict])-0.015,max([float(evec_dict[item][0]) for item in evec_dict])+0.015)\n",
      "            else:\n",
      "                ax.set_xlim(max([float(evec_dict[item][0]) for item in evec_dict])+0.015,min([float(evec_dict[item][0]) for item in evec_dict])-0.015)\n",
      "            if evec_dict['1ind'][1]>evec_dict['26ind'][1]:\n",
      "                ax.set_ylim(min([float(evec_dict[item][1]) for item in evec_dict])-0.02,max([float(evec_dict[item][1]) for item in evec_dict])+0.02)\n",
      "            else:\n",
      "                ax.set_ylim(max([float(evec_dict[item][1]) for item in evec_dict])+0.02,min([float(evec_dict[item][1]) for item in evec_dict])-0.02)\n",
      "            max_xticks = 5\n",
      "            xloc = plt.MaxNLocator(max_xticks)\n",
      "            ax.xaxis.set_major_locator(xloc)\n",
      "            max_yticks = 6\n",
      "            yloc = plt.MaxNLocator(max_yticks)\n",
      "            ax.yaxis.set_major_locator(yloc)\n",
      "            for ind in evec_dict:\n",
      "                ax.plot(float(evec_dict[ind][0]), float(evec_dict[ind][1]),d[loc_dict[ind]],color=c[loc_dict[ind]])\n",
      "                fi=open(\"%s0.eval\"%(types+groups))\n",
      "                evalfi=[]\n",
      "                for item in fi:\n",
      "                    evalfi.append(float(item))\n",
      "            PC1=evalfi[0]/sum(evalfi)\n",
      "            PC2=evalfi[1]/sum(evalfi)\n",
      "            ax.text(0.3,0.575,\"PC1 {:.2f}\".format(PC1),transform = ax.transAxes)\n",
      "            ax.text(0.3,0.425,\"PC2 {:.2f}\".format(PC2),transform = ax.transAxes)\n",
      "            ax.set_title(\"Empirical data\",rotation='0')\n",
      "\n",
      "            \n",
      "ax=fig.add_subplot(4,3,3)\n",
      "ax.set_xlim(0,1)\n",
      "ax.set_ylim(0,4)\n",
      "ax.set_axis_off()\n",
      "for i,loc in zip([1,2,3],['India','Africa','Europe']):  \n",
      "    ax.plot(0.1,float(i),d[loc],color=c[loc])\n",
      "    ax.text(0.15,float(i)-0.2,loc)\n",
      "\n",
      "\n",
      "fig.tight_layout()\n",
      "fig.savefig(\"figure4.pdf\")"
     ],
     "language": "python",
     "metadata": {},
     "outputs": [
      {
       "ename": "IndentationError",
       "evalue": "unindent does not match any outer indentation level (<ipython-input-182-5876059d2b62>, line 12)",
       "output_type": "pyerr",
       "traceback": [
        "\u001b[1;36m  File \u001b[1;32m\"<ipython-input-182-5876059d2b62>\"\u001b[1;36m, line \u001b[1;32m12\u001b[0m\n\u001b[1;33m    print(types,groups)\u001b[0m\n\u001b[1;37m                       ^\u001b[0m\n\u001b[1;31mIndentationError\u001b[0m\u001b[1;31m:\u001b[0m unindent does not match any outer indentation level\n"
       ]
      }
     ],
     "prompt_number": 182
    },
    {
     "cell_type": "code",
     "collapsed": false,
     "input": [
      "for i in range(0,5):\n",
      "    ii=str(i)\n",
      "    subsamp=pickle.load(open(\"FinalSub%i.p\"%i,'rb'))\n",
      "    for groups in subsamp:\n",
      "        for types in subsamp[groups]:\n",
      "            genoarr_to_eig(subsamp[groups][types],groups+types+ii)\n",
      "            genpopper(subsamp[groups][types],groups+types+ii)\n",
      "            run_genpop(groups+types+ii)\n",
      "            gpfi=open(\"./Genepop/sources/%s.txt.MIG\"%(groups+types+ii)).readlines()\n",
      "            vals_dict['fst1-2'][groups+types].append(float(gpfi[3]))\n",
      "            vals_dict['fst1-3'][groups+types].append(float(gpfi[4].split()[0]))\n",
      "            vals_dict['fst2-3'][groups+types].append(float(gpfi[4].split()[1]))\n",
      "            evalfi=[]\n",
      "            fi=open(\"%s.eval\"%(groups+types+ii))\n",
      "            for item in fi:\n",
      "                evalfi.append(float(item))\n",
      "            vals_dict['PC1'][groups+types].append(evalfi[0]/sum(evalfi))\n",
      "            vals_dict['PC2'][groups+types].append(evalfi[1]/sum(evalfi))"
     ],
     "language": "python",
     "metadata": {},
     "outputs": [
      {
       "output_type": "stream",
       "stream": "stdout",
       "text": [
        "./Genepop/sources/Genepop Dememorisation=1000 GenepopInputFile=Genepop/sources/randa0.txt MenuOptions=6.2 Mode=batch\n",
        "./Genepop/sources/Genepop Dememorisation=1000 GenepopInputFile=Genepop/sources/randr0.txt MenuOptions=6.2 Mode=batch"
       ]
      },
      {
       "output_type": "stream",
       "stream": "stdout",
       "text": [
        "\n",
        "./Genepop/sources/Genepop Dememorisation=1000 GenepopInputFile=Genepop/sources/randb0.txt MenuOptions=6.2 Mode=batch"
       ]
      },
      {
       "output_type": "stream",
       "stream": "stdout",
       "text": [
        "\n",
        "./Genepop/sources/Genepop Dememorisation=1000 GenepopInputFile=Genepop/sources/randw0.txt MenuOptions=6.2 Mode=batch"
       ]
      },
      {
       "output_type": "stream",
       "stream": "stdout",
       "text": [
        "\n",
        "./Genepop/sources/Genepop Dememorisation=1000 GenepopInputFile=Genepop/sources/Polya0.txt MenuOptions=6.2 Mode=batch"
       ]
      },
      {
       "output_type": "stream",
       "stream": "stdout",
       "text": [
        "\n",
        "./Genepop/sources/Genepop Dememorisation=1000 GenepopInputFile=Genepop/sources/Polyb0.txt MenuOptions=6.2 Mode=batch"
       ]
      },
      {
       "output_type": "stream",
       "stream": "stdout",
       "text": [
        "\n",
        "./Genepop/sources/Genepop Dememorisation=1000 GenepopInputFile=Genepop/sources/Polyw0.txt MenuOptions=6.2 Mode=batch"
       ]
      },
      {
       "output_type": "stream",
       "stream": "stdout",
       "text": [
        "\n",
        "./Genepop/sources/Genepop Dememorisation=1000 GenepopInputFile=Genepop/sources/Eura0.txt MenuOptions=6.2 Mode=batch"
       ]
      },
      {
       "output_type": "stream",
       "stream": "stdout",
       "text": [
        "\n",
        "./Genepop/sources/Genepop Dememorisation=1000 GenepopInputFile=Genepop/sources/Eurb0.txt MenuOptions=6.2 Mode=batch"
       ]
      },
      {
       "output_type": "stream",
       "stream": "stdout",
       "text": [
        "\n",
        "./Genepop/sources/Genepop Dememorisation=1000 GenepopInputFile=Genepop/sources/Eurw0.txt MenuOptions=6.2 Mode=batch"
       ]
      },
      {
       "output_type": "stream",
       "stream": "stdout",
       "text": [
        "\n",
        "./Genepop/sources/Genepop Dememorisation=1000 GenepopInputFile=Genepop/sources/randa1.txt MenuOptions=6.2 Mode=batch"
       ]
      },
      {
       "output_type": "stream",
       "stream": "stdout",
       "text": [
        "\n",
        "./Genepop/sources/Genepop Dememorisation=1000 GenepopInputFile=Genepop/sources/randr1.txt MenuOptions=6.2 Mode=batch"
       ]
      },
      {
       "output_type": "stream",
       "stream": "stdout",
       "text": [
        "\n",
        "./Genepop/sources/Genepop Dememorisation=1000 GenepopInputFile=Genepop/sources/randb1.txt MenuOptions=6.2 Mode=batch"
       ]
      },
      {
       "output_type": "stream",
       "stream": "stdout",
       "text": [
        "\n",
        "./Genepop/sources/Genepop Dememorisation=1000 GenepopInputFile=Genepop/sources/randw1.txt MenuOptions=6.2 Mode=batch"
       ]
      },
      {
       "output_type": "stream",
       "stream": "stdout",
       "text": [
        "\n",
        "./Genepop/sources/Genepop Dememorisation=1000 GenepopInputFile=Genepop/sources/Polya1.txt MenuOptions=6.2 Mode=batch"
       ]
      },
      {
       "output_type": "stream",
       "stream": "stdout",
       "text": [
        "\n",
        "./Genepop/sources/Genepop Dememorisation=1000 GenepopInputFile=Genepop/sources/Polyb1.txt MenuOptions=6.2 Mode=batch"
       ]
      },
      {
       "output_type": "stream",
       "stream": "stdout",
       "text": [
        "\n",
        "./Genepop/sources/Genepop Dememorisation=1000 GenepopInputFile=Genepop/sources/Polyw1.txt MenuOptions=6.2 Mode=batch"
       ]
      },
      {
       "output_type": "stream",
       "stream": "stdout",
       "text": [
        "\n",
        "./Genepop/sources/Genepop Dememorisation=1000 GenepopInputFile=Genepop/sources/Eura1.txt MenuOptions=6.2 Mode=batch"
       ]
      },
      {
       "output_type": "stream",
       "stream": "stdout",
       "text": [
        "\n",
        "./Genepop/sources/Genepop Dememorisation=1000 GenepopInputFile=Genepop/sources/Eurb1.txt MenuOptions=6.2 Mode=batch"
       ]
      },
      {
       "output_type": "stream",
       "stream": "stdout",
       "text": [
        "\n",
        "./Genepop/sources/Genepop Dememorisation=1000 GenepopInputFile=Genepop/sources/Eurw1.txt MenuOptions=6.2 Mode=batch"
       ]
      },
      {
       "output_type": "stream",
       "stream": "stdout",
       "text": [
        "\n",
        "./Genepop/sources/Genepop Dememorisation=1000 GenepopInputFile=Genepop/sources/randa2.txt MenuOptions=6.2 Mode=batch"
       ]
      },
      {
       "output_type": "stream",
       "stream": "stdout",
       "text": [
        "\n",
        "./Genepop/sources/Genepop Dememorisation=1000 GenepopInputFile=Genepop/sources/randr2.txt MenuOptions=6.2 Mode=batch"
       ]
      },
      {
       "output_type": "stream",
       "stream": "stdout",
       "text": [
        "\n",
        "./Genepop/sources/Genepop Dememorisation=1000 GenepopInputFile=Genepop/sources/randb2.txt MenuOptions=6.2 Mode=batch"
       ]
      },
      {
       "output_type": "stream",
       "stream": "stdout",
       "text": [
        "\n",
        "./Genepop/sources/Genepop Dememorisation=1000 GenepopInputFile=Genepop/sources/randw2.txt MenuOptions=6.2 Mode=batch"
       ]
      },
      {
       "output_type": "stream",
       "stream": "stdout",
       "text": [
        "\n",
        "./Genepop/sources/Genepop Dememorisation=1000 GenepopInputFile=Genepop/sources/Polya2.txt MenuOptions=6.2 Mode=batch"
       ]
      },
      {
       "output_type": "stream",
       "stream": "stdout",
       "text": [
        "\n",
        "./Genepop/sources/Genepop Dememorisation=1000 GenepopInputFile=Genepop/sources/Polyb2.txt MenuOptions=6.2 Mode=batch"
       ]
      },
      {
       "output_type": "stream",
       "stream": "stdout",
       "text": [
        "\n",
        "./Genepop/sources/Genepop Dememorisation=1000 GenepopInputFile=Genepop/sources/Polyw2.txt MenuOptions=6.2 Mode=batch"
       ]
      },
      {
       "output_type": "stream",
       "stream": "stdout",
       "text": [
        "\n",
        "./Genepop/sources/Genepop Dememorisation=1000 GenepopInputFile=Genepop/sources/Eura2.txt MenuOptions=6.2 Mode=batch"
       ]
      },
      {
       "output_type": "stream",
       "stream": "stdout",
       "text": [
        "\n",
        "./Genepop/sources/Genepop Dememorisation=1000 GenepopInputFile=Genepop/sources/Eurb2.txt MenuOptions=6.2 Mode=batch"
       ]
      },
      {
       "output_type": "stream",
       "stream": "stdout",
       "text": [
        "\n",
        "./Genepop/sources/Genepop Dememorisation=1000 GenepopInputFile=Genepop/sources/Eurw2.txt MenuOptions=6.2 Mode=batch"
       ]
      },
      {
       "output_type": "stream",
       "stream": "stdout",
       "text": [
        "\n",
        "./Genepop/sources/Genepop Dememorisation=1000 GenepopInputFile=Genepop/sources/randa3.txt MenuOptions=6.2 Mode=batch"
       ]
      },
      {
       "output_type": "stream",
       "stream": "stdout",
       "text": [
        "\n",
        "./Genepop/sources/Genepop Dememorisation=1000 GenepopInputFile=Genepop/sources/randr3.txt MenuOptions=6.2 Mode=batch"
       ]
      },
      {
       "output_type": "stream",
       "stream": "stdout",
       "text": [
        "\n",
        "./Genepop/sources/Genepop Dememorisation=1000 GenepopInputFile=Genepop/sources/randb3.txt MenuOptions=6.2 Mode=batch"
       ]
      },
      {
       "output_type": "stream",
       "stream": "stdout",
       "text": [
        "\n",
        "./Genepop/sources/Genepop Dememorisation=1000 GenepopInputFile=Genepop/sources/randw3.txt MenuOptions=6.2 Mode=batch"
       ]
      },
      {
       "output_type": "stream",
       "stream": "stdout",
       "text": [
        "\n",
        "./Genepop/sources/Genepop Dememorisation=1000 GenepopInputFile=Genepop/sources/Polya3.txt MenuOptions=6.2 Mode=batch"
       ]
      },
      {
       "output_type": "stream",
       "stream": "stdout",
       "text": [
        "\n",
        "./Genepop/sources/Genepop Dememorisation=1000 GenepopInputFile=Genepop/sources/Polyb3.txt MenuOptions=6.2 Mode=batch"
       ]
      },
      {
       "output_type": "stream",
       "stream": "stdout",
       "text": [
        "\n",
        "./Genepop/sources/Genepop Dememorisation=1000 GenepopInputFile=Genepop/sources/Polyw3.txt MenuOptions=6.2 Mode=batch"
       ]
      },
      {
       "output_type": "stream",
       "stream": "stdout",
       "text": [
        "\n",
        "./Genepop/sources/Genepop Dememorisation=1000 GenepopInputFile=Genepop/sources/Eura3.txt MenuOptions=6.2 Mode=batch"
       ]
      },
      {
       "output_type": "stream",
       "stream": "stdout",
       "text": [
        "\n",
        "./Genepop/sources/Genepop Dememorisation=1000 GenepopInputFile=Genepop/sources/Eurb3.txt MenuOptions=6.2 Mode=batch"
       ]
      },
      {
       "output_type": "stream",
       "stream": "stdout",
       "text": [
        "\n",
        "./Genepop/sources/Genepop Dememorisation=1000 GenepopInputFile=Genepop/sources/Eurw3.txt MenuOptions=6.2 Mode=batch"
       ]
      },
      {
       "output_type": "stream",
       "stream": "stdout",
       "text": [
        "\n",
        "./Genepop/sources/Genepop Dememorisation=1000 GenepopInputFile=Genepop/sources/randa4.txt MenuOptions=6.2 Mode=batch"
       ]
      },
      {
       "output_type": "stream",
       "stream": "stdout",
       "text": [
        "\n",
        "./Genepop/sources/Genepop Dememorisation=1000 GenepopInputFile=Genepop/sources/randr4.txt MenuOptions=6.2 Mode=batch"
       ]
      },
      {
       "output_type": "stream",
       "stream": "stdout",
       "text": [
        "\n",
        "./Genepop/sources/Genepop Dememorisation=1000 GenepopInputFile=Genepop/sources/randb4.txt MenuOptions=6.2 Mode=batch"
       ]
      },
      {
       "output_type": "stream",
       "stream": "stdout",
       "text": [
        "\n",
        "./Genepop/sources/Genepop Dememorisation=1000 GenepopInputFile=Genepop/sources/randw4.txt MenuOptions=6.2 Mode=batch"
       ]
      },
      {
       "output_type": "stream",
       "stream": "stdout",
       "text": [
        "\n",
        "./Genepop/sources/Genepop Dememorisation=1000 GenepopInputFile=Genepop/sources/Polya4.txt MenuOptions=6.2 Mode=batch"
       ]
      },
      {
       "output_type": "stream",
       "stream": "stdout",
       "text": [
        "\n",
        "./Genepop/sources/Genepop Dememorisation=1000 GenepopInputFile=Genepop/sources/Polyb4.txt MenuOptions=6.2 Mode=batch"
       ]
      },
      {
       "output_type": "stream",
       "stream": "stdout",
       "text": [
        "\n",
        "./Genepop/sources/Genepop Dememorisation=1000 GenepopInputFile=Genepop/sources/Polyw4.txt MenuOptions=6.2 Mode=batch"
       ]
      },
      {
       "output_type": "stream",
       "stream": "stdout",
       "text": [
        "\n",
        "./Genepop/sources/Genepop Dememorisation=1000 GenepopInputFile=Genepop/sources/Eura4.txt MenuOptions=6.2 Mode=batch"
       ]
      },
      {
       "output_type": "stream",
       "stream": "stdout",
       "text": [
        "\n",
        "./Genepop/sources/Genepop Dememorisation=1000 GenepopInputFile=Genepop/sources/Eurb4.txt MenuOptions=6.2 Mode=batch"
       ]
      },
      {
       "output_type": "stream",
       "stream": "stdout",
       "text": [
        "\n",
        "./Genepop/sources/Genepop Dememorisation=1000 GenepopInputFile=Genepop/sources/Eurw4.txt MenuOptions=6.2 Mode=batch"
       ]
      },
      {
       "output_type": "stream",
       "stream": "stdout",
       "text": [
        "\n"
       ]
      }
     ],
     "prompt_number": 95
    },
    {
     "cell_type": "code",
     "collapsed": false,
     "input": [
      "fi=open(\"fst_table.csv\",'w')\n",
      "pm=u\"\\u00B1\".encode('utf8')\n",
      "fi.write(\",,Eur,Afr\\n\")\n",
      "fi.write(\"Empirical data,Afr,{mean:.2f}{pm}{sd:.2f}\\n\".format(pm=pm,mean=np.mean(vals_dict['fst1-2']['randr']),sd=np.std(vals_dict['fst1-2']['randr'])))\n",
      "fi.write(\",Ind,{mean:.2f}{pm}{sd:.2f},{mean2:.2f}{pm}{sd2:.2f}\\n\".format(pm=pm,mean=np.mean(vals_dict['fst1-3']['randr']),sd=np.std(vals_dict['fst1-3']['randr']),mean2=np.mean(vals_dict['fst2-3']['randr']),sd2=np.std(vals_dict['fst2-3']['randr'])))\n",
      "fi.write(\",,I,,,,II,,,,III\\n\")\n",
      "for lett in ['a','b','w']:\n",
      "   fi.write(\",,Eur,Afr,,,Eur,Afr,,,Eur,Afr\\n\")\n",
      "   fi.write(lett)\n",
      "   for bias in ['rand','Eur','Poly'] :\n",
      "        fi.write(\",Afr,{mean:.2f}{pm}{sd:.2f},,\".format(pm=pm,mean=np.mean(vals_dict['fst1-2'][bias+lett]),sd=np.std(vals_dict['fst1-2'][bias+lett])))\n",
      "   fi.write(\"\\n\")     \n",
      "   for bias in ['rand','Eur','Poly'] :\n",
      "      fi.write(\",Ind,{mean:.2f}{pm}{sd:.2f},{mean2:.2f}{pm}{sd2:.2f},\".format(pm=pm,mean=np.mean(vals_dict['fst1-3'][bias+lett]),sd=np.std(vals_dict['fst1-3'][bias+lett]),mean2=np.mean(vals_dict['fst2-3'][bias+lett]),sd2=np.std(vals_dict['fst2-3'][bias+lett])))\n",
      "   fi.write(\"\\n\") \n",
      "    \n",
      "fi.close()"
     ],
     "language": "python",
     "metadata": {},
     "outputs": [],
     "prompt_number": 191
    },
    {
     "cell_type": "code",
     "collapsed": false,
     "input": [
      "fi=open(\"PCA_table.csv\",'w')\n",
      "pm=u\"\\u00B1\".encode('utf8')\n",
      "fi.write(\"Empirical data,PC1,{mean:.2f}{pm}{sd:.2f}\\n\".format(pm=pm,mean=np.mean(vals_dict['PC1']['randr']),sd=np.std(vals_dict['PC1']['randr'])))\n",
      "fi.write(\",PC2,{mean:.2f}{pm}{sd:.2f}\\n\".format(pm=pm,mean=np.mean(vals_dict['PC2']['randr']),sd=np.std(vals_dict['PC2']['randr'])))\n",
      "fi.write(\",,I,,II,,III\\n\")\n",
      "for lett in ['a','b','w']:\n",
      "   fi.write(lett)\n",
      "   for bias in ['rand','Eur','Poly'] :\n",
      "        fi.write(\",PC1,{mean:.2f}{pm}{sd:.2f}\".format(pm=pm,mean=np.mean(vals_dict['PC1'][bias+lett]),sd=np.std(vals_dict['PC1'][bias+lett])))\n",
      "   fi.write(\"\\n\")     \n",
      "   for bias in ['rand','Eur','Poly'] :\n",
      "        fi.write(\",PC2,{mean:.2f}{pm}{sd:.2f}\".format(pm=pm,mean=np.mean(vals_dict['PC2'][bias+lett]),sd=np.std(vals_dict['PC2'][bias+lett])))\n",
      "   fi.write(\"\\n\") \n",
      "    \n",
      "fi.close()"
     ],
     "language": "python",
     "metadata": {},
     "outputs": [],
     "prompt_number": 190
    },
    {
     "cell_type": "code",
     "collapsed": false,
     "input": [
      "AFRevecs={}\n",
      "Othermeans={}\n",
      "subsamp=pickle.load(open(\"FinalSub%i.p\"%0,'rb'))\n",
      "\n",
      "for types in subsamp:\n",
      "  for groups in subsamp[types]:\n",
      "        print(types)\n",
      "        AFRevecs[(types,groups)]=[]\n",
      "        for i in range(5):\n",
      "          fi=open(\"%s.evec\"%(types+groups+str(i))).readlines()\n",
      "          eurs=[]\n",
      "          for lin in fi[1:26]:\n",
      "                eurs.append(float(lin.split()[1]))\n",
      "          emean=np.mean(eurs)\n",
      "          indis=[]\n",
      "          for lin in fi[51:]:\n",
      "                indis.append(float(lin.split()[1]))\n",
      "          imean=np.mean(indis)\n",
      "          scale=imean-emean\n",
      "          for lin in fi[26:51]:\n",
      "                val=(float(lin.split()[1])-emean)/scale\n",
      "                AFRevecs[(types,groups)].append(val)\n",
      "    "
     ],
     "language": "python",
     "metadata": {},
     "outputs": [
      {
       "output_type": "stream",
       "stream": "stdout",
       "text": [
        "rand\n",
        "rand\n",
        "rand\n",
        "rand\n",
        "Poly\n",
        "Poly\n",
        "Poly\n",
        "Eur\n",
        "Eur\n",
        "Eur\n"
       ]
      }
     ],
     "prompt_number": 98
    },
    {
     "cell_type": "code",
     "collapsed": false,
     "input": [
      "len(AFRevecs['rand','a'])"
     ],
     "language": "python",
     "metadata": {},
     "outputs": [
      {
       "metadata": {},
       "output_type": "pyout",
       "prompt_number": 99,
       "text": [
        "125"
       ]
      }
     ],
     "prompt_number": 99
    },
    {
     "cell_type": "code",
     "collapsed": false,
     "input": [
      "for groups in subsamp[types]:\n",
      "     for types in subsamp:\n",
      "       print(types,groups)\n",
      "       print(np.mean(AFRevecs[(types,groups)]))"
     ],
     "language": "python",
     "metadata": {},
     "outputs": [
      {
       "output_type": "stream",
       "stream": "stdout",
       "text": [
        "('rand', 'a')\n",
        "0.000788695096806\n",
        "('Poly', 'a')\n",
        "-0.0147223785831\n",
        "('Eur', 'a')\n",
        "0.233247900013\n",
        "('rand', 'b')\n",
        "-0.00209343971863\n",
        "('Poly', 'b')\n",
        "-0.00658765028241\n",
        "('Eur', 'b')\n",
        "0.0204174792201\n",
        "('rand', 'w')\n",
        "0.32556491248\n",
        "('Poly', 'w')\n",
        "0.314251822792\n",
        "('Eur', 'w')\n",
        "0.409963500823\n"
       ]
      }
     ],
     "prompt_number": 100
    },
    {
     "cell_type": "code",
     "collapsed": false,
     "input": [
      "from scipy import stats\n",
      "import scipy"
     ],
     "language": "python",
     "metadata": {},
     "outputs": [],
     "prompt_number": 101
    },
    {
     "cell_type": "code",
     "collapsed": false,
     "input": [
      "scipy.stats.f_oneway(AFRevecs[('rand','a')],AFRevecs[('Eur','a')],AFRevecs[('Poly','a')])"
     ],
     "language": "python",
     "metadata": {},
     "outputs": [
      {
       "metadata": {},
       "output_type": "pyout",
       "prompt_number": 102,
       "text": [
        "(5921.481459589927, 9.1001043692594252e-283)"
       ]
      }
     ],
     "prompt_number": 102
    },
    {
     "cell_type": "code",
     "collapsed": false,
     "input": [
      "scipy.stats.f_oneway(AFRevecs[('rand','b')],AFRevecs[('Eur','b')],AFRevecs[('Poly','b')])"
     ],
     "language": "python",
     "metadata": {},
     "outputs": [
      {
       "metadata": {},
       "output_type": "pyout",
       "prompt_number": 103,
       "text": [
        "(2.3893656328471122, 0.093093691824866709)"
       ]
      }
     ],
     "prompt_number": 103
    },
    {
     "cell_type": "code",
     "collapsed": false,
     "input": [
      "scipy.stats.f_oneway(AFRevecs[('rand','w')],AFRevecs[('Eur','w')],AFRevecs[('Poly','w')])"
     ],
     "language": "python",
     "metadata": {},
     "outputs": [
      {
       "metadata": {},
       "output_type": "pyout",
       "prompt_number": 104,
       "text": [
        "(78.149953398427854, 4.6260197365810758e-29)"
       ]
      }
     ],
     "prompt_number": 104
    },
    {
     "cell_type": "code",
     "collapsed": false,
     "input": [
      "import matplotlib.pyplot as plt\n",
      "import matplotlib.patches as patches\n",
      "fig=plt.figure(figsize=(8, 6))\n",
      "\n",
      "i=0\n",
      "ii=0\n",
      "\n",
      "\n",
      "for groups in ['a','b','w']:\n",
      "      for types in [\"rand\",\"Eur\",\"Poly\"]:\n",
      "            ii+=1\n",
      "            print(types,groups)\n",
      "            fi=open(\"{:s}{:s}0.evec\".format(types,groups)).readlines()\n",
      "            evec_dict={}\n",
      "            loc_dict={}\n",
      "            locset=set()\n",
      "            for lin in fi[1:]:\n",
      "                lii=lin.split()\n",
      "                evec_dict[lii[0]]=lii[1:-1]\n",
      "                loc_dict[lii[0]]=lii[-1]\n",
      "                locset.add(lii[-1])\n",
      "            d = {key: value for (key, value) in zip(locset,['^','o','x'])}\n",
      "            c = {key: value for (key, value) in zip(locset,['blue','red','green'])}\n",
      "            ax=fig.add_subplot(4,3,ii+3)            \n",
      "            if float(evec_dict['1ind'][0])<float(evec_dict['51ind'][0]):\n",
      "                ax.set_xlim(min([float(evec_dict[item][0]) for item in evec_dict])-0.015,max([float(evec_dict[item][0]) for item in evec_dict])+0.015)\n",
      "            else:\n",
      "                ax.set_xlim(max([float(evec_dict[item][0]) for item in evec_dict])+0.015,min([float(evec_dict[item][0]) for item in evec_dict])-0.015)\n",
      "            if evec_dict['1ind'][1]>evec_dict['26ind'][1]:\n",
      "                ax.set_ylim(min([float(evec_dict[item][1]) for item in evec_dict])-0.02,max([float(evec_dict[item][1]) for item in evec_dict])+0.02)\n",
      "            else:\n",
      "                ax.set_ylim(max([float(evec_dict[item][1]) for item in evec_dict])+0.02,min([float(evec_dict[item][1]) for item in evec_dict])-0.02)\n",
      "            max_xticks = 5\n",
      "            xloc = plt.MaxNLocator(max_xticks)\n",
      "            ax.xaxis.set_major_locator(xloc)\n",
      "            max_yticks = 6\n",
      "            yloc = plt.MaxNLocator(max_yticks)\n",
      "            ax.yaxis.set_major_locator(yloc)\n",
      "            for ind in evec_dict:\n",
      "                ax.plot(float(evec_dict[ind][0]), float(evec_dict[ind][1]),d[loc_dict[ind]],color=c[loc_dict[ind]])\n",
      "                fi=open(\"%s0.eval\"%(types+groups))\n",
      "                evalfi=[]\n",
      "                for item in fi:\n",
      "                    evalfi.append(float(item))\n",
      "            PC1=evalfi[0]/sum(evalfi)\n",
      "            PC2=evalfi[1]/sum(evalfi)\n",
      "            ax.text(0.3,0.575,\"PC1 {:.2f}\".format(PC1),transform = ax.transAxes)\n",
      "            ax.text(0.3,0.425,\"PC2 {:.2f}\".format(PC2),transform = ax.transAxes)\n",
      "            if ii==1:\n",
      "                ax.set_title(\"I\")\n",
      "                ax.set_ylabel(\"a\",rotation='0')\n",
      "            if ii==2:\n",
      "                ax.set_title(\"II\")\n",
      "            if ii==3:\n",
      "                ax.set_title(\"III\")\n",
      "            if ii==4:\n",
      "                ax.set_ylabel(\"b\",rotation='0')   \n",
      "            if ii==7:\n",
      "                ax.set_ylabel(\"c\",rotation='0')   \n",
      "\n",
      "        \n",
      "for groups in ['r']:\n",
      "      for types in [\"rand\"]:\n",
      "            ii+=1\n",
      "            print(types,groups)\n",
      "            fi=open(\"{:s}{:s}0.evec\".format(types,groups)).readlines()\n",
      "            evec_dict={}\n",
      "            loc_dict={}\n",
      "            locset=set()\n",
      "            for lin in fi[1:]:\n",
      "                lii=lin.split()\n",
      "                evec_dict[lii[0]]=lii[1:-1]\n",
      "                loc_dict[lii[0]]=lii[-1]\n",
      "                locset.add(lii[-1])\n",
      "            d = {key: value for (key, value) in zip(locset,['^','o','x'])}\n",
      "            c = {key: value for (key, value) in zip(locset,['blue','red','green'])}\n",
      "            ax=fig.add_subplot(4,3,2)            \n",
      "            if float(evec_dict['1ind'][0])<float(evec_dict['51ind'][0]):\n",
      "                ax.set_xlim(min([float(evec_dict[item][0]) for item in evec_dict])-0.015,max([float(evec_dict[item][0]) for item in evec_dict])+0.015)\n",
      "            else:\n",
      "                ax.set_xlim(max([float(evec_dict[item][0]) for item in evec_dict])+0.015,min([float(evec_dict[item][0]) for item in evec_dict])-0.015)\n",
      "            if evec_dict['1ind'][1]>evec_dict['26ind'][1]:\n",
      "                ax.set_ylim(min([float(evec_dict[item][1]) for item in evec_dict])-0.02,max([float(evec_dict[item][1]) for item in evec_dict])+0.02)\n",
      "            else:\n",
      "                ax.set_ylim(max([float(evec_dict[item][1]) for item in evec_dict])+0.02,min([float(evec_dict[item][1]) for item in evec_dict])-0.02)\n",
      "            max_xticks = 5\n",
      "            xloc = plt.MaxNLocator(max_xticks)\n",
      "            ax.xaxis.set_major_locator(xloc)\n",
      "            max_yticks = 6\n",
      "            yloc = plt.MaxNLocator(max_yticks)\n",
      "            ax.yaxis.set_major_locator(yloc)\n",
      "            for ind in evec_dict:\n",
      "                ax.plot(float(evec_dict[ind][0]), float(evec_dict[ind][1]),d[loc_dict[ind]],color=c[loc_dict[ind]])\n",
      "                fi=open(\"%s0.eval\"%(types+groups))\n",
      "                evalfi=[]\n",
      "                for item in fi:\n",
      "                    evalfi.append(float(item))\n",
      "            PC1=evalfi[0]/sum(evalfi)\n",
      "            PC2=evalfi[1]/sum(evalfi)\n",
      "            ax.text(0.3,0.575,\"PC1 {:.2f}\".format(PC1),transform = ax.transAxes)\n",
      "            ax.text(0.3,0.425,\"PC2 {:.2f}\".format(PC2),transform = ax.transAxes)\n",
      "            ax.set_title(\"Empirical data\",rotation='0')\n",
      "\n",
      "            \n",
      "ax=fig.add_subplot(4,3,3)\n",
      "ax.set_xlim(0,1)\n",
      "ax.set_ylim(0,4)\n",
      "ax.set_axis_off()\n",
      "for i,loc in zip([1,2,3],['India','Africa','Europe']):  \n",
      "    ax.plot(0.1,float(i),d[loc],color=c[loc])\n",
      "    ax.text(0.15,float(i)-0.2,loc)\n",
      "\n",
      "\n",
      "fig.tight_layout()\n",
      "fig.savefig(\"figure4.pdf\")"
     ],
     "language": "python",
     "metadata": {},
     "outputs": [
      {
       "output_type": "stream",
       "stream": "stdout",
       "text": [
        "('rand', 'a')\n",
        "('Eur', 'a')"
       ]
      },
      {
       "output_type": "stream",
       "stream": "stdout",
       "text": [
        "\n",
        "('Poly', 'a')"
       ]
      },
      {
       "output_type": "stream",
       "stream": "stdout",
       "text": [
        "\n",
        "('rand', 'b')"
       ]
      },
      {
       "output_type": "stream",
       "stream": "stdout",
       "text": [
        "\n",
        "('Eur', 'b')"
       ]
      },
      {
       "output_type": "stream",
       "stream": "stdout",
       "text": [
        "\n",
        "('Poly', 'b')"
       ]
      },
      {
       "output_type": "stream",
       "stream": "stdout",
       "text": [
        "\n",
        "('rand', 'w')"
       ]
      },
      {
       "output_type": "stream",
       "stream": "stdout",
       "text": [
        "\n",
        "('Eur', 'w')"
       ]
      },
      {
       "output_type": "stream",
       "stream": "stdout",
       "text": [
        "\n",
        "('Poly', 'w')"
       ]
      },
      {
       "output_type": "stream",
       "stream": "stdout",
       "text": [
        "\n",
        "('rand', 'r')"
       ]
      },
      {
       "output_type": "stream",
       "stream": "stdout",
       "text": [
        "\n"
       ]
      },
      {
       "metadata": {},
       "output_type": "display_data",
       "png": "[encoded data removed]",
       "text": [
        "<matplotlib.figure.Figure at 0x8c3b4d0>"
       ]
      }
     ],
     "prompt_number": 105
    },
    {
     "cell_type": "code",
     "collapsed": false,
     "input": [
      "atre=\"./msdir/ms \" + \"9 20\" +\" -T \"+ \" -I 3 3 3 3 0\" +popsizes+ej1str + ej2str + en1astr +en1bstr+ \" > nomig_15k.tre\"#simple model\n",
      "btre=\"./msdir/ms \" + \"9 20\" +\" -T \" + \" -I 3 3 3 3 0\" +popsizes+ej1str + ej2str + en1astr +en1bstr+migmatmurray  + \" > MURRmig_15k.tre\"#mig since domestication\n",
      "wtre=\"./msdir/ms \" + \"9 20\" +\" -T \" + \" -I 3 3 3 3 0\" +popsizes+ej1str + ej2str + en1astr +en1bstr+waymore+migmatmurray +\"> WAYmig_15k.tre\"#more I-AFR adm since 3ky\n",
      "os.system(atre)\n",
      "os.system(btre)\n",
      "os.system(wtre)"
     ],
     "language": "python",
     "metadata": {},
     "outputs": [
      {
       "metadata": {},
       "output_type": "pyout",
       "prompt_number": 129,
       "text": [
        "0"
       ]
      }
     ],
     "prompt_number": 129
    },
    {
     "cell_type": "code",
     "collapsed": false,
     "input": [
      "for item in [\"nomig_15k.tre\",\"MURRmig_15k.tre\",\"WAYmig_15k.tre\"]:\n",
      "    os.system(\"java -jar DensiTreev2.1.11.jar -o {0}.bmp {0}\".format(item))\n"
     ],
     "language": "python",
     "metadata": {},
     "outputs": [],
     "prompt_number": 130
    },
    {
     "cell_type": "code",
     "collapsed": false,
     "input": [
      "import matplotlib.pyplot as plt\n",
      "from scipy import ndimage\n",
      "fig=plt.figure()\n",
      "#fig.subplots_adjust(left=0.01, bottom=0.01, top=0.99, right=0.09)\n",
      "\n",
      "for i,im in enumerate([\"nomig.bmp\",\"murrmig.bmp\",\"waymig.bmp\"]):\n",
      "  print(i,im)\n",
      "  ax1=fig.add_subplot(1,3,i+1)\n",
      "  ax1.set_xlim(0,750)\n",
      "  ax1.set_axis_off()\n",
      "  im1 = plt.imread(im)\n",
      "  rim1 = ndimage.rotate(im1, -90)\n",
      "  ly,lx = rim1.shape[0:2]\n",
      "#  ax1.imshow(np.fliplr(rim1[:,lx/20:-lx/20]))\n",
      "  ax1.imshow(rim1[:,:])\n",
      "  plt.plot( [0, 220],[835, 835], 'k-', lw=2)\n",
      "  ax1.text(20,890,'Europe',size=40)\n",
      "  plt.plot( [265, 475],[835, 835], 'k-', lw=2)\n",
      "  ax1.text(295,890,'Africa',size=40)\n",
      "  plt.plot( [535, 745],[835, 835], 'k-', lw=2)\n",
      "  ax1.text(565,890,'India',size=40)\n",
      "  \n",
      "fig.text(0.2,0.75,'a.', size=40)  \n",
      "fig.text(0.45,0.75,'b.', size=40)  \n",
      "fig.text(0.7,.75,'c.', size=40)  \n",
      "fig.subplots_adjust(wspace=-0.2) \n",
      "fig.savefig(\"figure2.pdf\")"
     ],
     "language": "python",
     "metadata": {},
     "outputs": [
      {
       "output_type": "stream",
       "stream": "stdout",
       "text": [
        "(0, 'nomig.bmp')\n",
        "(1, 'murrmig.bmp')"
       ]
      },
      {
       "output_type": "stream",
       "stream": "stdout",
       "text": [
        "\n",
        "(2, 'waymig.bmp')"
       ]
      },
      {
       "output_type": "stream",
       "stream": "stdout",
       "text": [
        "\n"
       ]
      },
      {
       "metadata": {},
       "output_type": "display_data",
       "png": "[encoded data removed]",
       "text": [
        "<matplotlib.figure.Figure at 0x25b1b710>"
       ]
      }
     ],
     "prompt_number": 152
    },
    {
     "cell_type": "code",
     "collapsed": false,
     "input": [
      "locset"
     ],
     "language": "python",
     "metadata": {},
     "outputs": [
      {
       "output_type": "pyout",
       "prompt_number": 32,
       "text": [
        "set(['Europe', 'India', 'Africa'])"
       ]
      }
     ],
     "prompt_number": 32
    },
    {
     "cell_type": "code",
     "collapsed": false,
     "input": [],
     "language": "python",
     "metadata": {},
     "outputs": []
    }
   ],
   "metadata": {}
  }
 ]
}